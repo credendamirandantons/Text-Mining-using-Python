{
  "cells": [
    {
      "cell_type": "markdown",
      "metadata": {
        "id": "0nO6SnavKdgc"
      },
      "source": [
        "# Basic Selenium Web Driver"
      ]
    },
    {
      "cell_type": "markdown",
      "metadata": {
        "id": "wkp4z4_VKdg4"
      },
      "source": [
        "## Pengenalan Selenium"
      ]
    },
    {
      "cell_type": "markdown",
      "metadata": {
        "id": "__tmaQTNKdg6"
      },
      "source": [
        "Jika BeautifulSoup digunakan untuk mengambil data pada halaman web maka Selenium digunakan untuk meramban halaman web secara otomatis. Package ini tidak hanya bisa mengambil informasi pada sebuah link halaman web yang telah terbuka namun juga bisa memerintahkan operasi web browser secara otomatis seperti membuka sebuah link, klik sebuah tab, bahkan melakukan input teks. \n",
        "\n",
        "Package ini pertama kali dirilis secara resmi pada tahun 2004 yang diawali oleh sebuah projek \"JavaScriptTestRunner\" yang merupakan kosep inti dari Selenium. Projek ini bertujuan untuk melakukan uji sebuah aplikasi dengan simulasi otomatis. Saat ini selenium memiliki tiga aplikasi utama yaitu Selenium Web Driver, Selenium IDE, dan Selenium GRID. Untuk web scrapping Selenium Web Driver adalah yang paling populer. Kita dapat melakukan otomatisasi dalam operasi web browser untuk mencari halaman yang kita butuhkan dan sekaligus mengambil data yang kita inginkan."
      ]
    },
    {
      "cell_type": "markdown",
      "metadata": {
        "id": "enT0zmwMKdg8"
      },
      "source": [
        "## Selenium Web Driver"
      ]
    },
    {
      "cell_type": "markdown",
      "metadata": {
        "id": "lc7APvrRKdg9"
      },
      "source": [
        "Ketika kita melakukan web scrapping untuk mengambil data teks terkadang kita perlu melakukan login, mengeklik sebuah tombol, dan melakukan scrolling sebelum akhirnya halaman web yang kita inginkan tampil sempurna kemudian kita scrapping menggunakan tools seperti BeautifulSoup. Beberapa hal tersebut di atas tidak bisa dilakukan oleh packages BeautifulSoup. Selenium merupakan package yang digunakan untuk otomatisasi web browser. Beberapa hal di atas yang kita butuhkan dapat dilakukan menggunakan Selenium. Meskipun demikian, sesungguhnya Selenium memiliki fungsi yang jauh lebih luas untuk melakukan testing sebuah halaman web. Pada modul ini kita akan berfokus bagaimana memanfaatkan selenium untuk melakukan web scrapping. Web Driver merupakan driver browser yang dibangun khusus untuk dikendalikan menggunakan sistem testing seperti Selenium. Pembahasan lebih lengkap tentang Selenium Web Driver dapat diperoleh di https://www.selenium.dev/documentation/webdriver/. Browser yang biasa kita gunakan untuk berselancar seperti Chrome, Firefox dan Edge bisa kita operasikan secara otomatis menggunakan Selenium Web Browser. Khusus pada Workshop 2.0 ini kita akan menggunakan Edge Web Driver. "
      ]
    },
    {
      "cell_type": "markdown",
      "metadata": {
        "id": "vyAiwaegKdhA"
      },
      "source": [
        "## Download Edge Browser dan Edge Web Driver"
      ]
    },
    {
      "cell_type": "markdown",
      "metadata": {
        "id": "2zpQzCDxKdhB"
      },
      "source": [
        "Pada workshop ini kita akan menggunakan Browser Edge dan mengoperasikannya dengan kode menggunakan Edge Web Driver. Pertama download dan instal Edge Browser pada link berikut: https://www.microsoft.com/en-us/edge . Kemudian lihat versi browser Anda kemudian download web driver Edge dengan versi yang sama di link berikut: https://developer.microsoft.com/en-us/microsoft-edge/tools/webdriver/#downloads"
      ]
    },
    {
      "cell_type": "markdown",
      "metadata": {
        "id": "tPJPl-AIKdhE"
      },
      "source": [
        "## Instalasi Selenium dan Download Edge Web Driver"
      ]
    },
    {
      "cell_type": "markdown",
      "metadata": {
        "id": "zYXg0_3xKdhH"
      },
      "source": [
        "Untuk melakukan instalasi selenium dengan menggunakan Edge Web Driver kita dapat menjalankan syntax berikut:"
      ]
    },
    {
      "cell_type": "code",
      "execution_count": null,
      "metadata": {
        "id": "TbTHpbcnKdhK",
        "outputId": "b637448a-f822-40f2-e9ff-c6c780739475"
      },
      "outputs": [
        {
          "name": "stdout",
          "output_type": "stream",
          "text": [
            "Requirement already satisfied: msedge-selenium-tools in c:\\programdata\\anaconda3\\lib\\site-packages (3.141.3)\n",
            "Requirement already satisfied: selenium==3.141 in c:\\programdata\\anaconda3\\lib\\site-packages (3.141.0)\n",
            "Requirement already satisfied: urllib3 in c:\\programdata\\anaconda3\\lib\\site-packages (from selenium==3.141) (1.26.4)\n"
          ]
        }
      ],
      "source": [
        "!pip install msedge-selenium-tools selenium==3.141"
      ]
    },
    {
      "cell_type": "markdown",
      "metadata": {
        "id": "Pqaj26UgKdhP"
      },
      "source": [
        "Panduan lengkap tentang Otomatisasi Edge Browser menggunakan Web Driver dapat diakses di: https://docs.microsoft.com/en-us/microsoft-edge/webdriver-chromium/?tabs=c-sharp"
      ]
    },
    {
      "cell_type": "markdown",
      "metadata": {
        "id": "SozodSBfKdhR"
      },
      "source": [
        "## Setup Browser Driver"
      ]
    },
    {
      "cell_type": "markdown",
      "metadata": {
        "id": "rvSvt0ngKdhS"
      },
      "source": [
        "Kita dapat mengoperasikan sebuah web browser menggunakan selenium. Misal kita dapat memberikan perintah untuk melakukan scrolling otomatis, click tab di browser, serta membuka dan menutup browser hanya melalui beberapa baris kode. Namun demikian browser yang digunakan bukanlah browser yang biasa digunakan. Melainkan driver browser. Pada dasarnya browser ini juga sama dengan browser yang kita pakai. Kita juga tetap data mengoperasikan browser tersebut dengan manual selain dapat melakukannya secara otomatis atau mengendalikannya menggunakan perintah menggunakan bahasa python.\n"
      ]
    },
    {
      "cell_type": "code",
      "execution_count": null,
      "metadata": {
        "id": "rfssCWZ2KdhU"
      },
      "outputs": [],
      "source": [
        "from selenium.webdriver.common.keys import Keys\n",
        "from selenium.common.exceptions import NoSuchElementException\n",
        "from msedge.selenium_tools import Edge, EdgeOptions"
      ]
    },
    {
      "cell_type": "code",
      "execution_count": null,
      "metadata": {
        "id": "S5jFbxMYKdhW"
      },
      "outputs": [],
      "source": [
        "options = EdgeOptions() \n",
        "options.use_chromium = True\n",
        "\n",
        "browser_driver = Edge(options = options, executable_path=r\"C:\\Users\\1234\\Downloads\\WS2.0 - Text Mining using Python\\Hari Kedua\\MsEdge [Download Sesuai Versi OS]\\edgedriver_win64\\msedgedriver.exe\") # Setting lokasi driver"
      ]
    },
    {
      "cell_type": "markdown",
      "metadata": {
        "id": "yQYAW4a1KdhX"
      },
      "source": [
        "Setelah menjalankan kode di atas maka akan terbuka sebuah Window Edge Browser dengan pemberitahuan _Microsoft Edge is being controlled by automated test software_. "
      ]
    },
    {
      "cell_type": "markdown",
      "metadata": {
        "id": "nHuhaCf3KdhY"
      },
      "source": [
        "## Dasar-Dasar Selenium Web Driver"
      ]
    },
    {
      "cell_type": "markdown",
      "metadata": {
        "id": "eQ8czWMfKdhZ"
      },
      "source": [
        "### Membuka dan Menutup Browser"
      ]
    },
    {
      "cell_type": "markdown",
      "metadata": {
        "id": "jvtSzdhqKdha"
      },
      "source": [
        "Untuk membuka browser dapat dilakukan dengan kode berikut:"
      ]
    },
    {
      "cell_type": "code",
      "execution_count": null,
      "metadata": {
        "id": "9PkOQuDEKdhb"
      },
      "outputs": [],
      "source": [
        "browser_driver = Edge(options = options, executable_path=r\"C:\\Users\\1234\\Downloads\\WS2.0 - Text Mining using Python\\Hari Kedua\\MsEdge [Download Sesuai Versi OS]\\edgedriver_win64\\msedgedriver.exe\") # Setting lokasi driver"
      ]
    },
    {
      "cell_type": "markdown",
      "metadata": {
        "id": "VEIXMUiLKdhd"
      },
      "source": [
        "Untuk menutup browser dapat dilakukan dengan kode berikut:"
      ]
    },
    {
      "cell_type": "code",
      "execution_count": null,
      "metadata": {
        "id": "pxA9uChOKdhe"
      },
      "outputs": [],
      "source": [
        "browser_driver.close()"
      ]
    },
    {
      "cell_type": "markdown",
      "metadata": {
        "id": "iOc3T1GAKdhf"
      },
      "source": [
        "### Membuka Sebuah Link"
      ]
    },
    {
      "cell_type": "code",
      "execution_count": null,
      "metadata": {
        "id": "Jh3JwW6lKdhg"
      },
      "outputs": [],
      "source": [
        "browser_driver = Edge(options = options, executable_path=r\"C:\\Users\\1234\\Downloads\\WS2.0 - Text Mining using Python\\Hari Kedua\\MsEdge [Download Sesuai Versi OS]\\edgedriver_win64\\msedgedriver.exe\") # Setting lokasi driver"
      ]
    },
    {
      "cell_type": "code",
      "execution_count": null,
      "metadata": {
        "id": "WXeWimA3Kdhh"
      },
      "outputs": [],
      "source": [
        "url = 'https://uad.ac.id/id/'\n",
        "\n",
        "browser_driver.get(url)"
      ]
    },
    {
      "cell_type": "markdown",
      "metadata": {
        "id": "mvWqEFybKdhi"
      },
      "source": [
        "### Refresh, Go Back, dan Go Forward"
      ]
    },
    {
      "cell_type": "code",
      "execution_count": null,
      "metadata": {
        "id": "ImSrW_NZKdhj"
      },
      "outputs": [],
      "source": [
        "browser_driver.refresh()"
      ]
    },
    {
      "cell_type": "code",
      "execution_count": null,
      "metadata": {
        "id": "RZ0AGzt3Kdhj"
      },
      "outputs": [],
      "source": [
        "browser_driver.back()"
      ]
    },
    {
      "cell_type": "code",
      "execution_count": null,
      "metadata": {
        "id": "xCMgwgOrKdhk"
      },
      "outputs": [],
      "source": [
        "browser_driver.forward()"
      ]
    },
    {
      "cell_type": "markdown",
      "metadata": {
        "id": "3l9KzGJdKdhl"
      },
      "source": [
        "### Minimize Window, Maximize Window, dan Restore Window"
      ]
    },
    {
      "cell_type": "code",
      "execution_count": null,
      "metadata": {
        "id": "jpwxRHKUKdhm"
      },
      "outputs": [],
      "source": [
        "browser_driver.minimize_window()"
      ]
    },
    {
      "cell_type": "code",
      "execution_count": null,
      "metadata": {
        "id": "VELiO1o6Kdhm"
      },
      "outputs": [],
      "source": [
        "browser_driver.maximize_window()"
      ]
    },
    {
      "cell_type": "code",
      "execution_count": null,
      "metadata": {
        "id": "EFEgqPi8Kdhn"
      },
      "outputs": [],
      "source": [
        "browser_driver.close()"
      ]
    },
    {
      "cell_type": "markdown",
      "metadata": {
        "id": "FGo6wrUOKdho"
      },
      "source": [
        "Mengembalikan ukuran windows ke ukuran semula"
      ]
    },
    {
      "cell_type": "code",
      "execution_count": null,
      "metadata": {
        "id": "WFXY-u8AKdho"
      },
      "outputs": [],
      "source": [
        "browser_driver = Edge(options = options, executable_path=r\"C:\\Users\\Joko Eliyanto\\AppData\\Local\\Programs\\Common\\msedgedriver.exe\") # Setting lokasi driver"
      ]
    },
    {
      "cell_type": "code",
      "execution_count": null,
      "metadata": {
        "id": "M2gp6xlLKdhp"
      },
      "outputs": [],
      "source": [
        "w,h = browser_driver.get_window_size().values()"
      ]
    },
    {
      "cell_type": "code",
      "execution_count": null,
      "metadata": {
        "id": "PFZ-De-IKdhq",
        "outputId": "3ca99acd-7265-4c42-8529-10d7aeb211e3"
      },
      "outputs": [
        {
          "name": "stdout",
          "output_type": "stream",
          "text": [
            "lebar window:  1552 dan tinggi window:  840\n"
          ]
        }
      ],
      "source": [
        "print('lebar window: ', w, 'dan', 'tinggi window: ', h)"
      ]
    },
    {
      "cell_type": "code",
      "execution_count": null,
      "metadata": {
        "id": "eNkTFqexKdhr"
      },
      "outputs": [],
      "source": [
        "# Maximize Browser\n",
        "browser_driver.maximize_window()"
      ]
    },
    {
      "cell_type": "code",
      "execution_count": null,
      "metadata": {
        "id": "dVg35YF2Kdhs"
      },
      "outputs": [],
      "source": [
        "browser_driver.set_window_size(w,h)"
      ]
    },
    {
      "cell_type": "code",
      "execution_count": null,
      "metadata": {
        "id": "kK77cxihKdht"
      },
      "outputs": [],
      "source": [
        "browser_driver.close()"
      ]
    },
    {
      "cell_type": "markdown",
      "metadata": {
        "id": "gAhQrAsxKdht"
      },
      "source": [
        "### Locating Elements"
      ]
    },
    {
      "cell_type": "markdown",
      "metadata": {
        "id": "bmIeLmVrKdht"
      },
      "source": [
        "Pada workshop ini kita akan mempelajari beberapa cara untuk mengakses sebuah elemen. Dokumentasi lengkap dari locating element selenium dapat diperoleh di https://selenium-python.readthedocs.io/locating-elements.html.\n"
      ]
    },
    {
      "cell_type": "markdown",
      "metadata": {
        "id": "KG3YQNL_Kdhu"
      },
      "source": [
        "**Find Single Element**:\n",
        "\n",
        "1. find_element_by_id\n",
        "2. find_element_by_xpath\n",
        "\n",
        "**Find Multiple Element**:\n",
        "\n",
        "1. find_elements_by_id\n",
        "2. find_elements_by_xpath"
      ]
    },
    {
      "cell_type": "markdown",
      "metadata": {
        "id": "4Dv0zHaiKdhu"
      },
      "source": [
        "### Locating by Id"
      ]
    },
    {
      "cell_type": "markdown",
      "metadata": {
        "id": "Pl49Gv3kKdhu"
      },
      "source": [
        "Kita bisa mengambil sebuah elemen berdasarkan atribut `id` nya. Menggunakan strategi ini, elemen pertama dengan atribut `id` yang sesuai akan kita peroleh. Jika tidak ada elemen yang memiliki atribut `id` yang cocok, maka NoSuchElementException akan dimunculkan.\n",
        "\n",
        "Sebagai contoh, berdasarkan potongan kode HTML pada halaman web berikut ini:\n",
        "\n",
        "```\n",
        "<html>\n",
        " <body>\n",
        "  <form id=\"loginForm\">\n",
        "   <input name=\"username\" type=\"text\" />\n",
        "   <input name=\"password\" type=\"password\" />\n",
        "   <input name=\"continue\" type=\"submit\" value=\"Login\" />\n",
        "  </form>\n",
        " </body>\n",
        "</html>\n",
        "```\n",
        "\n",
        "Elemen formulir dapat ditemukan dengan cara sebagai berikut:\n",
        "\n",
        "`login_form = driver.find_element_by_id('loginForm')`"
      ]
    },
    {
      "cell_type": "markdown",
      "metadata": {
        "id": "iqD0gezCKdhv"
      },
      "source": [
        "Sebagai real practice kita akan menuju halaman login facebook kemudian akan mencari username dan password menggunakan `find_element_id`."
      ]
    },
    {
      "cell_type": "code",
      "execution_count": null,
      "metadata": {
        "id": "WIytrZIIKdhv"
      },
      "outputs": [],
      "source": [
        "#Membuka Browser\n",
        "browser_driver = Edge(options = options, executable_path=r\"C:\\Users\\1234\\Downloads\\WS2.0 - Text Mining using Python\\Hari Kedua\\MsEdge [Download Sesuai Versi OS]\\edgedriver_win64\\msedgedriver.exe\") # Setting lokasi driver\n",
        "#Membuka halaman login Twitter\n",
        "browser_driver.get('https://www.facebook.com/')"
      ]
    },
    {
      "cell_type": "code",
      "execution_count": null,
      "metadata": {
        "id": "iaK2Es4FKdhw"
      },
      "outputs": [],
      "source": [
        "#Menemukan Elemen Username\n",
        "element_username = browser_driver.find_element_by_id('email')"
      ]
    },
    {
      "cell_type": "code",
      "execution_count": null,
      "metadata": {
        "id": "lmuZkQrqKdhw"
      },
      "outputs": [],
      "source": [
        "#Menemukan Elemen Password\n",
        "element_password = browser_driver.find_element_by_id('pass')"
      ]
    },
    {
      "cell_type": "markdown",
      "metadata": {
        "id": "A09RVGFhKdhx"
      },
      "source": [
        "### Locating by XPath"
      ]
    },
    {
      "cell_type": "markdown",
      "metadata": {
        "id": "whXIahdMKdhx"
      },
      "source": [
        "XPath adalah bahasa yang digunakan untuk menemukan node dalam dokumen XML. Karena HTML dapat menjadi implementasi XML (XHTML), pengguna Selenium dapat memanfaatkan bahasa yang kuat ini untuk menargetkan elemen dalam aplikasi web mereka. XPath mendukung metode sederhana untuk menemukan berdasarkan id atau atribut nama dan memperluasnya dengan membuka segala macam kemungkinan baru seperti menemukan kotak centang ketiga pada halaman.\n",
        "\n",
        "Salah satu alasan utama untuk menggunakan XPath adalah ketika Anda tidak memiliki atribut id atau name yang sesuai untuk elemen yang ingin Anda temukan. Anda dapat menggunakan XPath untuk menemukan elemen secara absolut (tidak disarankan), atau relatif terhadap elemen yang memiliki atribut id atau name. Pencari XPath juga dapat digunakan untuk menentukan elemen melalui atribut selain id dan nama.\n",
        "\n",
        "Sebagai contoh, berdasarkan potongan kode HTML pada halaman web berikut ini:\n",
        "\n",
        "```\n",
        "<html>\n",
        " <body>\n",
        "  <form id=\"loginForm\">\n",
        "   <input name=\"username\" type=\"text\" />\n",
        "   <input name=\"password\" type=\"password\" />\n",
        "   <input name=\"continue\" type=\"submit\" value=\"Login\" />\n",
        "   <input name=\"continue\" type=\"button\" value=\"Clear\" />\n",
        "  </form>\n",
        "</body>\n",
        "</html>\n",
        "```\n",
        "\n",
        "Elemen nama pengguna dapat ditemukan sebagai berikut:\n",
        "\n",
        "`username = driver.find_element_by_xpath(\"//form[input/@name='username']\")`\n",
        "\n",
        "`username = driver.find_element_by_xpath(\"//form[@id='loginForm']/input[1]\")`\n",
        "\n",
        "`username = driver.find_element_by_xpath(\"//input[@name='username']\")`\n",
        "\n",
        "Apa bedanya?"
      ]
    },
    {
      "cell_type": "markdown",
      "metadata": {
        "id": "wOT7lEBFKdhy"
      },
      "source": [
        "1. Elemen formulir pertama dengan sub elemen  input dengan nama yang disetel ke nama pengguna\n",
        "2. Masukkan sub elemen pertama dari elemen formulir dengan id atribut disetel ke loginForm\n",
        "3. Elemen input pertama dengan nama atribut disetel ke nama pengguna"
      ]
    },
    {
      "cell_type": "markdown",
      "metadata": {
        "id": "BNnYdB2IKdhy"
      },
      "source": [
        "Sebagai real practice kita akan menuju halaman login facebook kemudian akan mencari username dan password menggunakan `find_element_by_x_path`."
      ]
    },
    {
      "cell_type": "code",
      "execution_count": null,
      "metadata": {
        "id": "oIpFENXRKdhy"
      },
      "outputs": [],
      "source": [
        "#Membuka Browser\n",
        "browser_driver = Edge(options = options, executable_path=r\"C:\\Users\\1234\\Downloads\\WS2.0 - Text Mining using Python\\Hari Kedua\\MsEdge [Download Sesuai Versi OS]\\edgedriver_win64\\msedgedriver.exe\") # Setting lokasi driver\n",
        "#Membuka halaman login Twitter\n",
        "browser_driver.get('https://www.facebook.com/')"
      ]
    },
    {
      "cell_type": "code",
      "execution_count": null,
      "metadata": {
        "id": "77HPKCj7Kdhz"
      },
      "outputs": [],
      "source": [
        "#Menemukan Elemen Username\n",
        "element_username = browser_driver.find_element_by_xpath('//input[@name=\"email\"]')"
      ]
    },
    {
      "cell_type": "code",
      "execution_count": null,
      "metadata": {
        "id": "o4M7jxkIKdhz"
      },
      "outputs": [],
      "source": [
        "#Menemukan Elemen Password\n",
        "element_password = browser_driver.find_element_by_xpath('//input[@name=\"pass\"]')"
      ]
    },
    {
      "cell_type": "markdown",
      "metadata": {
        "id": "2eDDxI59Kdhz"
      },
      "source": [
        "### Input Teks pada Halaman Web"
      ]
    },
    {
      "cell_type": "code",
      "execution_count": null,
      "metadata": {
        "id": "7prc1siWKdh0"
      },
      "outputs": [],
      "source": [
        "#Membuka Browser\n",
        "browser_driver = Edge(options = options, executable_path=r\"C:\\Users\\1234\\Downloads\\WS2.0 - Text Mining using Python\\Hari Kedua\\MsEdge [Download Sesuai Versi OS]\\edgedriver_win64\\msedgedriver.exe\") # Setting lokasi driver\n",
        "#Membuka halaman login Twitter\n",
        "browser_driver.get('https://www.facebook.com/')"
      ]
    },
    {
      "cell_type": "code",
      "execution_count": null,
      "metadata": {
        "id": "8wEoRgpJKdh0"
      },
      "outputs": [],
      "source": [
        "#Menemukan Elemen Username\n",
        "element_username = browser_driver.find_element_by_xpath('//input[@name=\"email\"]')"
      ]
    },
    {
      "cell_type": "code",
      "execution_count": null,
      "metadata": {
        "id": "n3ZY7Ph2Kdh1"
      },
      "outputs": [],
      "source": [
        "#Memberikan input username\n",
        "element_username.send_keys('HelloABC')"
      ]
    },
    {
      "cell_type": "code",
      "execution_count": null,
      "metadata": {
        "id": "ibWXsbalKdh1"
      },
      "outputs": [],
      "source": [
        "#Menemukan Elemen Password\n",
        "element_password = browser_driver.find_element_by_id('pass')"
      ]
    },
    {
      "cell_type": "code",
      "execution_count": null,
      "metadata": {
        "id": "pBFHMisRKdh1"
      },
      "outputs": [],
      "source": [
        "#Memberikan input password\n",
        "element_password.send_keys('1234')"
      ]
    },
    {
      "cell_type": "code",
      "execution_count": null,
      "metadata": {
        "id": "0mzezdFBKdh2"
      },
      "outputs": [],
      "source": [
        "#Menghapus inputasi password\n",
        "element_password.clear()"
      ]
    },
    {
      "cell_type": "markdown",
      "metadata": {
        "id": "hO8NtEclKdh2"
      },
      "source": [
        "### Melakukan Klik "
      ]
    },
    {
      "cell_type": "code",
      "execution_count": null,
      "metadata": {
        "id": "Q5wkFCOSKdh2"
      },
      "outputs": [],
      "source": [
        "#Membuka Browser\n",
        "browser_driver = Edge(options = options, executable_path=r\"C:\\Users\\1234\\Downloads\\WS2.0 - Text Mining using Python\\Hari Kedua\\MsEdge [Download Sesuai Versi OS]\\edgedriver_win64\\msedgedriver.exe\") # Setting lokasi driver\n",
        "#Membuka halaman login Twitter\n",
        "browser_driver.get('https://www.google.com/')"
      ]
    },
    {
      "cell_type": "code",
      "execution_count": null,
      "metadata": {
        "id": "Gu-aa_0nKdh3"
      },
      "outputs": [],
      "source": [
        "#Menemukan Elemen Pencarian\n",
        "element_search = browser_driver.find_element_by_xpath('//input[@name=\"q\"]')"
      ]
    },
    {
      "cell_type": "code",
      "execution_count": null,
      "metadata": {
        "id": "VHkv0YcbKdh3"
      },
      "outputs": [],
      "source": [
        "#Memberikan input keyword pencarian\n",
        "element_search.send_keys('UAD')"
      ]
    },
    {
      "cell_type": "code",
      "execution_count": null,
      "metadata": {
        "id": "j8mwMwgFKdh3"
      },
      "outputs": [],
      "source": [
        "#Klik Tombol penelusuran google\n",
        "browser_driver.find_element_by_xpath('//input[@name=\"btnK\"]').click()"
      ]
    },
    {
      "cell_type": "markdown",
      "metadata": {
        "id": "bXBavd1ZKdh4"
      },
      "source": [
        "### Input dan Klik Tombol Enter"
      ]
    },
    {
      "cell_type": "code",
      "execution_count": null,
      "metadata": {
        "id": "BW9b5ek9Kdh4"
      },
      "outputs": [],
      "source": [
        "#Membuka Browser\n",
        "browser_driver = Edge(options = options, executable_path=r\"C:\\Users\\1234\\Downloads\\WS2.0 - Text Mining using Python\\Hari Kedua\\MsEdge [Download Sesuai Versi OS]\\edgedriver_win64\\msedgedriver.exe\") # Setting lokasi driver\n",
        "#Membuka halaman login Twitter\n",
        "browser_driver.get('https://www.google.com/')"
      ]
    },
    {
      "cell_type": "code",
      "execution_count": null,
      "metadata": {
        "id": "hvqKFBxnKdh4"
      },
      "outputs": [],
      "source": [
        "#Menemukan Elemen Pencarian\n",
        "element_search = browser_driver.find_element_by_xpath('//input[@name=\"q\"]')"
      ]
    },
    {
      "cell_type": "code",
      "execution_count": null,
      "metadata": {
        "id": "HW28D6q3Kdh5"
      },
      "outputs": [],
      "source": [
        "#Memberikan input keyword pencarian\n",
        "element_search.send_keys('UAD')"
      ]
    },
    {
      "cell_type": "code",
      "execution_count": null,
      "metadata": {
        "id": "7q5VBTt2Kdh5"
      },
      "outputs": [],
      "source": [
        "#Klik Enter untuk penelusuran google\n",
        "element_search.send_keys(Keys.RETURN)"
      ]
    },
    {
      "cell_type": "markdown",
      "metadata": {
        "id": "Fev4cwmtKdh5"
      },
      "source": [
        "### Scrolling"
      ]
    },
    {
      "cell_type": "code",
      "execution_count": null,
      "metadata": {
        "id": "Q0b2fQSVKdh6"
      },
      "outputs": [],
      "source": [
        "#Membuka Browser\n",
        "browser_driver = Edge(options = options, executable_path=r\"C:\\Users\\1234\\Downloads\\WS2.0 - Text Mining using Python\\Hari Kedua\\MsEdge [Download Sesuai Versi OS]\\edgedriver_win64\\msedgedriver.exe\") # Setting lokasi driver\n",
        "#Membuka halaman login Twitter\n",
        "browser_driver.get('https://www.google.com/')\n",
        "\n",
        "#Menemukan Elemen Pencarian\n",
        "element_search = browser_driver.find_element_by_class('//input[@name=\"q\"]')\n",
        "\n",
        "#Memberikan input keyword pencarian\n",
        "element_search.send_keys('UAD')\n",
        "\n",
        "#Klik Enter untuk penelusuran google\n",
        "element_search.send_keys(Keys.RETURN)"
      ]
    },
    {
      "cell_type": "code",
      "execution_count": null,
      "metadata": {
        "id": "XrwLDwgGKdh6"
      },
      "outputs": [],
      "source": [
        "# Scrolling berdasarkan pixel\n",
        "browser_driver.execute_script(\"window.scrollBy(0,500)\",\"\")"
      ]
    },
    {
      "cell_type": "code",
      "execution_count": null,
      "metadata": {
        "id": "EVsO1oyfKdh7"
      },
      "outputs": [],
      "source": [
        "element_p2 = browser_driver.find_element_by_class_name('Fx4vi')\n",
        "\n",
        "# Scrolling berdasarkan elemen yang dituju\n",
        "browser_driver.execute_script(\"arguments[0].scrollIntoView();\", element_p2)"
      ]
    },
    {
      "cell_type": "code",
      "execution_count": null,
      "metadata": {
        "id": "A6SL1y5pKdh7"
      },
      "outputs": [],
      "source": [
        "# Scrolling hingga akhir halaman\n",
        "browser_driver.execute_script(\"window.scrollBy(0,document.body.scrollHeight)\")"
      ]
    },
    {
      "cell_type": "code",
      "execution_count": null,
      "metadata": {
        "id": "ERdyjqH4Kdh7",
        "outputId": "ca78d8a1-e330-4caf-aaa7-5df1da201800"
      },
      "outputs": [
        {
          "data": {
            "text/plain": [
              "0"
            ]
          },
          "execution_count": 139,
          "metadata": {},
          "output_type": "execute_result"
        }
      ],
      "source": [
        "# Mendapatkan posisi piksel terakhir yang terbuka penuh\n",
        "browser_driver.execute_script(\"return window.pageYOffset;\")"
      ]
    },
    {
      "cell_type": "code",
      "execution_count": null,
      "metadata": {
        "id": "JhO8JRRtKdh8"
      },
      "outputs": [],
      "source": [
        "# Scrol kembali ke atas\n",
        "browser_driver.execute_script(\"window.scrollTo(0, 0)\")"
      ]
    },
    {
      "cell_type": "code",
      "execution_count": null,
      "metadata": {
        "id": "TQ2X5yDUKdh8"
      },
      "outputs": [],
      "source": [
        ""
      ]
    }
  ],
  "metadata": {
    "kernelspec": {
      "display_name": "Python 3",
      "language": "python",
      "name": "python3"
    },
    "language_info": {
      "codemirror_mode": {
        "name": "ipython",
        "version": 3
      },
      "file_extension": ".py",
      "mimetype": "text/x-python",
      "name": "python",
      "nbconvert_exporter": "python",
      "pygments_lexer": "ipython3",
      "version": "3.8.8"
    },
    "colab": {
      "name": "L6_WebScrappingDenganSelenium.ipynb",
      "provenance": [],
      "collapsed_sections": []
    }
  },
  "nbformat": 4,
  "nbformat_minor": 0
}